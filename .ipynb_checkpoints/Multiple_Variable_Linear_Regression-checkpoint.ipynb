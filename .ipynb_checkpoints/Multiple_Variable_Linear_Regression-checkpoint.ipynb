{
 "cells": [
  {
   "cell_type": "code",
   "execution_count": 5,
   "id": "9d5e78a9-5b4f-4871-8515-430f868f11e7",
   "metadata": {},
   "outputs": [],
   "source": [
    "import numpy as np\n",
    "import copy, math\n",
    "import matplotlib.pyplot as plt\n",
    "plt.style.use('./deeplearning.mplstyle')\n",
    "np.set_printoptions(precision=2)  # reduced display precision on numpy arrays"
   ]
  },
  {
   "cell_type": "code",
   "execution_count": 7,
   "id": "38ee8e8b-9918-4920-8862-d56cf6acea3b",
   "metadata": {},
   "outputs": [
    {
     "name": "stdout",
     "output_type": "stream",
     "text": [
      "X_train:[[2104    5    1   45]\n",
      " [1416    3    2   40]\n",
      " [ 852    2    1   35]]     X shape: (3, 4),     X Type:<class 'numpy.ndarray'>\n",
      "Y_train:[460 232 178]     Y shape: (3,),     X Type:<class 'numpy.ndarray'>\n"
     ]
    }
   ],
   "source": [
    "import numpy as np\n",
    "\n",
    "X_train = np.array([[2104, 5, 1, 45], [1416, 3, 2, 40], [852, 2, 1, 35]])\n",
    "y_train = np.array([460, 232, 178])\n",
    "\n",
    "# Each row of the matrix represents one training example \n",
    "#when we have 'm' training examples, we will have 'm' rows\n",
    "#when we have 'n' features per example, we will have 'n' columns\n",
    "\n",
    "#that is a matrix of dimensions of (m, n)\n",
    "\n",
    "print(f\"X_train:{X_train}     X shape: {X_train.shape},     X Type:{type(X_train)}\")\n",
    "print(f\"Y_train:{y_train}     Y shape: {y_train.shape},     X Type:{type(y_train)}\")"
   ]
  },
  {
   "cell_type": "code",
   "execution_count": 8,
   "id": "177609a0-0087-4847-a7bd-449f29593c7e",
   "metadata": {},
   "outputs": [
    {
     "name": "stdout",
     "output_type": "stream",
     "text": [
      "w_init shape: (4,), b_init type:<class 'float'>\n"
     ]
    }
   ],
   "source": [
    "b_init = 785.181136\n",
    "w_init = np.array([0.39133535, 18.75376741, -53.36032453, -26.42131618])\n",
    "print(f\"w_init shape: {w_init.shape}, b_init type:{type(b_init)}\")"
   ]
  },
  {
   "cell_type": "code",
   "execution_count": 15,
   "id": "bd46b94d-73ec-45a1-ba5c-a3c0c8f57f3a",
   "metadata": {},
   "outputs": [
    {
     "data": {
      "text/plain": [
       "np.float64(459.9999968200001)"
      ]
     },
     "execution_count": 15,
     "metadata": {},
     "output_type": "execute_result"
    }
   ],
   "source": [
    "#Single Prediction (y hat) element by element\n",
    "\n",
    "#still a loop\n",
    "\n",
    "x = X_train[0]\n",
    "def predict_single_loop(x, w, b): \n",
    "\n",
    "    n = x.shape[0]\n",
    "    p = 0\n",
    "    for i in range(n):\n",
    "        p_i = x[i] * w[i]  \n",
    "        p = p + p_i         \n",
    "    p = p + b                \n",
    "    return p\n",
    "\n",
    "predict_single_loop(x, w_init, b_init)"
   ]
  },
  {
   "cell_type": "code",
   "execution_count": 16,
   "id": "bbfb19d9-6e27-46be-af6f-d51596448c01",
   "metadata": {},
   "outputs": [
    {
     "data": {
      "text/plain": [
       "np.float64(459.9999968200001)"
      ]
     },
     "execution_count": 16,
     "metadata": {},
     "output_type": "execute_result"
    }
   ],
   "source": [
    "#Single Prediction (y hat) vector\n",
    "\n",
    "# y hat = w1x1 + w2x2+ ...+ b\n",
    "\n",
    "#now vectorized\n",
    "\n",
    "x = X_train[0]\n",
    "def predict_single_loop(x, w, b): \n",
    "    p = np.dot(x, w) + b              \n",
    "    return p\n",
    "\n",
    "predict_single_loop(x, w_init, b_init)"
   ]
  },
  {
   "cell_type": "code",
   "execution_count": 6,
   "id": "b361575c-1a12-4e53-8f37-efd5b64c3fe2",
   "metadata": {},
   "outputs": [
    {
     "name": "stdout",
     "output_type": "stream",
     "text": [
      "3.215566700216876e-12\n"
     ]
    }
   ],
   "source": [
    "#Calculating the Cost (J(w,b))\n",
    "\n",
    "import numpy as np\n",
    "\n",
    "X_train = np.array([[2104, 5, 1, 45], [1416, 3, 2, 40], [852, 2, 1, 35]])\n",
    "y_train = np.array([460, 232, 178])\n",
    "\n",
    "b_init = 785.181136\n",
    "w_init = np.array([0.39133535, 18.75376741, -53.36032453, -26.42131618])\n",
    "\n",
    "\n",
    "def compute_cost(X, y, w, b):\n",
    "    m = X.shape[0]\n",
    "    cost = 0.0\n",
    "    for i in range(m):\n",
    "        cost = cost + ((np.dot (X[i], w)+b - y[i])**2)/(2*m)\n",
    "    return cost\n",
    "\n",
    "print(compute_cost(X_train, y_train, w_init, b_init))"
   ]
  },
  {
   "cell_type": "code",
   "execution_count": 7,
   "id": "4eff8ce3-8c07-4811-9cf9-8cb9db5810b9",
   "metadata": {},
   "outputs": [],
   "source": [
    "#Compute Gradient with Multiple Variables\n",
    "\n",
    "def compute_gradient(X, y, w, b):\n",
    "\n",
    "    \"\"\"\n",
    "    Inputs:\n",
    "X: Training data, shape (m,n), where\n",
    "    m = number of training examples\n",
    "    n = number of features\n",
    "y: Target values (length m)\n",
    "w: Current weight vector (length n)\n",
    "b: Current bias (scalar)\n",
    "\"\"\"\n",
    "    \n",
    "    m,n = X.shape\n",
    "    dj_dw = np.zeros((n,))\n",
    "    dj_db = 0\n",
    "\n",
    "    for i in range (m): \n",
    "        err = (np.dot(X[i], w) + b) -y[i]   #(y^ - y)\n",
    "        for j in range (n):\n",
    "            dj_dw[j] += err * X[i,j] #adds (ŷ - y) * x_j\n",
    "        dj_db = dj_db + err  \n",
    "    dj_dw = dj_dw/m\n",
    "    dj_db = dj_db/m\n",
    "\n",
    "    return dj_db, dj_dw\n"
   ]
  },
  {
   "cell_type": "code",
   "execution_count": null,
   "id": "5f538692-c199-412f-a5e2-7cf2a375da29",
   "metadata": {},
   "outputs": [],
   "source": []
  }
 ],
 "metadata": {
  "kernelspec": {
   "display_name": "Python 3 (ipykernel)",
   "language": "python",
   "name": "python3"
  },
  "language_info": {
   "codemirror_mode": {
    "name": "ipython",
    "version": 3
   },
   "file_extension": ".py",
   "mimetype": "text/x-python",
   "name": "python",
   "nbconvert_exporter": "python",
   "pygments_lexer": "ipython3",
   "version": "3.13.7"
  }
 },
 "nbformat": 4,
 "nbformat_minor": 5
}
