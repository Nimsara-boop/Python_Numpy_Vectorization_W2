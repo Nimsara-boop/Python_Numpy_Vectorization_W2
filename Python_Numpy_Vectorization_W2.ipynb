{
 "cells": [
  {
   "cell_type": "code",
   "execution_count": 3,
   "id": "17a3a9d4-dc9b-4513-9f0b-6be1dc4f0639",
   "metadata": {},
   "outputs": [
    {
     "name": "stdout",
     "output_type": "stream",
     "text": [
      "Collecting numpy\n",
      "  Downloading numpy-2.3.2-cp313-cp313-win_amd64.whl.metadata (60 kB)\n",
      "Downloading numpy-2.3.2-cp313-cp313-win_amd64.whl (12.8 MB)\n",
      "   ---------------------------------------- 0.0/12.8 MB ? eta -:--:--\n",
      "   - -------------------------------------- 0.5/12.8 MB 4.0 MB/s eta 0:00:04\n",
      "   -------- ------------------------------- 2.6/12.8 MB 8.8 MB/s eta 0:00:02\n",
      "   ---------------- ----------------------- 5.2/12.8 MB 10.0 MB/s eta 0:00:01\n",
      "   ----------------------- ---------------- 7.6/12.8 MB 10.5 MB/s eta 0:00:01\n",
      "   ------------------------------- -------- 10.0/12.8 MB 10.7 MB/s eta 0:00:01\n",
      "   ------------------------------------ --- 11.5/12.8 MB 10.1 MB/s eta 0:00:01\n",
      "   ---------------------------------------  12.6/12.8 MB 10.2 MB/s eta 0:00:01\n",
      "   ---------------------------------------- 12.8/12.8 MB 9.3 MB/s  0:00:01\n",
      "Installing collected packages: numpy\n",
      "Successfully installed numpy-2.3.2\n"
     ]
    }
   ],
   "source": [
    "!pip install numpy\n"
   ]
  },
  {
   "cell_type": "code",
   "execution_count": 1,
   "id": "f7e586f9-41db-4156-8150-2268b34e1898",
   "metadata": {},
   "outputs": [
    {
     "name": "stdout",
     "output_type": "stream",
     "text": [
      "2.3.2\n"
     ]
    }
   ],
   "source": [
    "import numpy as np\n",
    "print(np.__version__)"
   ]
  },
  {
   "cell_type": "code",
   "execution_count": 5,
   "id": "2c32f095-06a1-457f-88e9-b06b5e632923",
   "metadata": {},
   "outputs": [
    {
     "name": "stdout",
     "output_type": "stream",
     "text": [
      "np.zeros(4): a= [0. 0. 0. 0.]  a shape = (4,), a data type= float64\n",
      "np.random.random_sample(4): a=[0.19939179 0.03523422 0.00877736 0.91769034]  a-shape=(4,)   a-data-type=float64\n"
     ]
    }
   ],
   "source": [
    "import numpy as np\n",
    "import time\n",
    "a=np.zeros(4);\n",
    "print(f\"np.zeros(4): a= {a}  a shape = {a.shape}, a data type= {a.dtype}\")\n",
    "a=np.random.random_sample(4);\n",
    "print(f\"np.random.random_sample(4): a={a}  a-shape={a.shape}   a-data-type={a.dtype}\")\n"
   ]
  },
  {
   "cell_type": "code",
   "execution_count": 10,
   "id": "e735f1ae-1763-488b-86c0-4f3239cf6fe0",
   "metadata": {},
   "outputs": [
    {
     "name": "stdout",
     "output_type": "stream",
     "text": [
      "np.arrange(8.): a = [0 1 2 3 4 5 6 7]  a-shape=(8,)  a-data-type=int64\n",
      "np.random.rand(4.): a = [0.96460589 0.60557777 0.08065836 0.3621526 ]  a-shape=(4,)  a-data-type=float64\n"
     ]
    }
   ],
   "source": [
    "a = np.arange(8);\n",
    "print(f\"np.arrange(8.): a = {a}  a-shape={a.shape}  a-data-type={a.dtype}\")\n",
    "a = np.random.rand(4);\n",
    "print(f\"np.random.rand(4.): a = {a}  a-shape={a.shape}  a-data-type={a.dtype}\")\n"
   ]
  },
  {
   "cell_type": "code",
   "execution_count": 16,
   "id": "c0758631-6e77-4f34-8b50-fe646f7cea01",
   "metadata": {},
   "outputs": [
    {
     "name": "stdout",
     "output_type": "stream",
     "text": [
      "[0 1 2 3 4 5 6 7 8 9]\n",
      "a[2].shape:() a[2] = 2\n",
      "a[-1] = 9\n"
     ]
    }
   ],
   "source": [
    "#indexing\n",
    "a = np.arange(10)\n",
    "print(a)\n",
    "\n",
    "print(f\"a[2].shape:{a[2].shape} a[2] = {a[2]}\")\n",
    "\n",
    "print(f\"a[-1] = {a[-1]}\") #to access last index"
   ]
  },
  {
   "cell_type": "code",
   "execution_count": 17,
   "id": "1ca48a41-bd83-4a21-be82-38b9be7cbdc7",
   "metadata": {},
   "outputs": [
    {
     "name": "stdout",
     "output_type": "stream",
     "text": [
      "a     = [0 1 2 3 4 5 6 7 8 9]\n",
      "a      = [2 4 6]\n"
     ]
    }
   ],
   "source": [
    "#slicing\n",
    "\n",
    "a = np.arange(10)\n",
    "print(f\"a     = {a}\")\n",
    "\n",
    "#[(start : stop : step]\n",
    "print(f\"a      = {a[2: 7: 2]}\")\n",
    "\n",
    "#accessing element indexed at 3 and above\n",
    "print(f\"a       = {a[3:]}\")\n",
    "\n",
    "#accessing element indexed at 3 and below\n",
    "print(f\"a       = {a[:3]}\")\n",
    "\n",
    "\n",
    "#accessing all elements \n",
    "print(f\"\")"
   ]
  },
  {
   "cell_type": "code",
   "execution_count": null,
   "id": "b40322e2-b8ad-44d9-bca0-efdce20a41e8",
   "metadata": {},
   "outputs": [],
   "source": []
  }
 ],
 "metadata": {
  "kernelspec": {
   "display_name": "Python 3 (ipykernel)",
   "language": "python",
   "name": "python3"
  },
  "language_info": {
   "codemirror_mode": {
    "name": "ipython",
    "version": 3
   },
   "file_extension": ".py",
   "mimetype": "text/x-python",
   "name": "python",
   "nbconvert_exporter": "python",
   "pygments_lexer": "ipython3",
   "version": "3.13.7"
  }
 },
 "nbformat": 4,
 "nbformat_minor": 5
}
