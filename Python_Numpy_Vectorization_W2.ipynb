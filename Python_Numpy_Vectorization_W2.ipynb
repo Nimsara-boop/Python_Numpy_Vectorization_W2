{
 "cells": [
  {
   "cell_type": "code",
   "execution_count": 3,
   "id": "17a3a9d4-dc9b-4513-9f0b-6be1dc4f0639",
   "metadata": {},
   "outputs": [
    {
     "name": "stdout",
     "output_type": "stream",
     "text": [
      "Collecting numpy\n",
      "  Downloading numpy-2.3.2-cp313-cp313-win_amd64.whl.metadata (60 kB)\n",
      "Downloading numpy-2.3.2-cp313-cp313-win_amd64.whl (12.8 MB)\n",
      "   ---------------------------------------- 0.0/12.8 MB ? eta -:--:--\n",
      "   - -------------------------------------- 0.5/12.8 MB 4.0 MB/s eta 0:00:04\n",
      "   -------- ------------------------------- 2.6/12.8 MB 8.8 MB/s eta 0:00:02\n",
      "   ---------------- ----------------------- 5.2/12.8 MB 10.0 MB/s eta 0:00:01\n",
      "   ----------------------- ---------------- 7.6/12.8 MB 10.5 MB/s eta 0:00:01\n",
      "   ------------------------------- -------- 10.0/12.8 MB 10.7 MB/s eta 0:00:01\n",
      "   ------------------------------------ --- 11.5/12.8 MB 10.1 MB/s eta 0:00:01\n",
      "   ---------------------------------------  12.6/12.8 MB 10.2 MB/s eta 0:00:01\n",
      "   ---------------------------------------- 12.8/12.8 MB 9.3 MB/s  0:00:01\n",
      "Installing collected packages: numpy\n",
      "Successfully installed numpy-2.3.2\n"
     ]
    }
   ],
   "source": [
    "!pip install numpy\n"
   ]
  },
  {
   "cell_type": "code",
   "execution_count": 1,
   "id": "f7e586f9-41db-4156-8150-2268b34e1898",
   "metadata": {},
   "outputs": [
    {
     "name": "stdout",
     "output_type": "stream",
     "text": [
      "2.3.2\n"
     ]
    }
   ],
   "source": [
    "import numpy as np\n",
    "print(np.__version__)"
   ]
  },
  {
   "cell_type": "code",
   "execution_count": 5,
   "id": "2c32f095-06a1-457f-88e9-b06b5e632923",
   "metadata": {},
   "outputs": [
    {
     "name": "stdout",
     "output_type": "stream",
     "text": [
      "np.zeros(4): a= [0. 0. 0. 0.]  a shape = (4,), a data type= float64\n",
      "np.random.random_sample(4): a=[0.19939179 0.03523422 0.00877736 0.91769034]  a-shape=(4,)   a-data-type=float64\n"
     ]
    }
   ],
   "source": [
    "import numpy as np\n",
    "import time\n",
    "a=np.zeros(4);\n",
    "print(f\"np.zeros(4): a= {a}  a shape = {a.shape}, a data type= {a.dtype}\")\n",
    "a=np.random.random_sample(4);\n",
    "print(f\"np.random.random_sample(4): a={a}  a-shape={a.shape}   a-data-type={a.dtype}\")\n"
   ]
  },
  {
   "cell_type": "code",
   "execution_count": 10,
   "id": "e735f1ae-1763-488b-86c0-4f3239cf6fe0",
   "metadata": {},
   "outputs": [
    {
     "name": "stdout",
     "output_type": "stream",
     "text": [
      "np.arrange(8.): a = [0 1 2 3 4 5 6 7]  a-shape=(8,)  a-data-type=int64\n",
      "np.random.rand(4.): a = [0.96460589 0.60557777 0.08065836 0.3621526 ]  a-shape=(4,)  a-data-type=float64\n"
     ]
    }
   ],
   "source": [
    "a = np.arange(8);\n",
    "print(f\"np.arrange(8.): a = {a}  a-shape={a.shape}  a-data-type={a.dtype}\")\n",
    "a = np.random.rand(4);\n",
    "print(f\"np.random.rand(4.): a = {a}  a-shape={a.shape}  a-data-type={a.dtype}\")\n"
   ]
  },
  {
   "cell_type": "code",
   "execution_count": 16,
   "id": "c0758631-6e77-4f34-8b50-fe646f7cea01",
   "metadata": {},
   "outputs": [
    {
     "name": "stdout",
     "output_type": "stream",
     "text": [
      "[0 1 2 3 4 5 6 7 8 9]\n",
      "a[2].shape:() a[2] = 2\n",
      "a[-1] = 9\n"
     ]
    }
   ],
   "source": [
    "#indexing\n",
    "a = np.arange(10)\n",
    "print(a)\n",
    "\n",
    "print(f\"a[2].shape:{a[2].shape} a[2] = {a[2]}\")\n",
    "\n",
    "print(f\"a[-1] = {a[-1]}\") #to access last index"
   ]
  },
  {
   "cell_type": "code",
   "execution_count": 18,
   "id": "1ca48a41-bd83-4a21-be82-38b9be7cbdc7",
   "metadata": {},
   "outputs": [
    {
     "name": "stdout",
     "output_type": "stream",
     "text": [
      "a     = [0 1 2 3 4 5 6 7 8 9]\n",
      "a      = [2 4 6]\n",
      "a       = [3 4 5 6 7 8 9]\n",
      "a       = [0 1 2]\n",
      "a        = [0 1 2 3 4 5 6 7 8 9]\n",
      "a        = [0 1 2 3 4 5 6 7 8 9]\n"
     ]
    }
   ],
   "source": [
    "#slicing\n",
    "\n",
    "a = np.arange(10)\n",
    "print(f\"a     = {a}\")\n",
    "\n",
    "#[(start : stop : step]\n",
    "print(f\"a      = {a[2: 7: 2]}\")\n",
    "\n",
    "#accessing element indexed at 3 and above\n",
    "print(f\"a       = {a[3:]}\")\n",
    "\n",
    "#accessing element indexed at 3 and below\n",
    "print(f\"a       = {a[:3]}\")\n",
    "\n",
    "\n",
    "#accessing all elements \n",
    "print(f\"a        = {a[:]}\")\n",
    "print(f\"a        = {a}\")"
   ]
  },
  {
   "cell_type": "code",
   "execution_count": 26,
   "id": "b40322e2-b8ad-44d9-bca0-efdce20a41e8",
   "metadata": {},
   "outputs": [
    {
     "name": "stdout",
     "output_type": "stream",
     "text": [
      "-a          = [-1 -2 -3 -4]\n",
      "sum of a    = 10\n",
      "mean of a   = 2.5\n",
      "squaring a   = [ 1  4  9 16]\n",
      "squaring a   = [1.         1.41421356 1.73205081 2.        ]\n"
     ]
    }
   ],
   "source": [
    "#SINGLE VECTOR OPERATIONS\n",
    "a = np.array([1, 2, 3, 4]) #a tuple passed to as an array\n",
    " #negating elements of a\n",
    "print(f\"-a          = {-a}\")\n",
    "\n",
    "#sum all elements of a which returns a scalar\n",
    "print(f\"sum of a    = {np.sum(a)}\")\n",
    "\n",
    "#mean of elements of a\n",
    "print(f\"mean of a   = {np.mean(a)}\")\n",
    "\n",
    "#squaring elements of a\n",
    "print(f\"squaring a   = {a**2}\")\n",
    "\n",
    "#square root of element a \n",
    "print(f\"squaring a   = {np.sqrt(a)}\")"
   ]
  },
  {
   "cell_type": "code",
   "execution_count": 24,
   "id": "c2d8ba98-13d7-47f7-8d50-7c56b3b16965",
   "metadata": {},
   "outputs": [
    {
     "name": "stdout",
     "output_type": "stream",
     "text": [
      "binary operators work element wise: [0 0 6 8]\n"
     ]
    }
   ],
   "source": [
    "#Vector Vector element-wise operations\n",
    "\n",
    "#adding vector arrays\n",
    "a = np.array([1,2,3,4])\n",
    "b = np.array([-1,-2, 3, 4])\n",
    "print(f'binary operators work element wise: {a+b}')\n"
   ]
  },
  {
   "cell_type": "code",
   "execution_count": 27,
   "id": "8e83e57f-687e-4a60-87e5-554eef80b682",
   "metadata": {},
   "outputs": [
    {
     "name": "stdout",
     "output_type": "stream",
     "text": [
      "a*5    = [ 5 10 15 20]\n"
     ]
    }
   ],
   "source": [
    "#Scalar Vector operations\n",
    "\n",
    "a = np.array([1, 2, 3, 4])\n",
    "#multiply by scalar\n",
    "print(f\"a*5    = {a*5}\")"
   ]
  },
  {
   "cell_type": "code",
   "execution_count": 29,
   "id": "beb0586d-ab9f-4c97-9401-f41cbdf41557",
   "metadata": {},
   "outputs": [
    {
     "name": "stdout",
     "output_type": "stream",
     "text": [
      "result from the LOOP method is 2501072.5816813707\n",
      "time taken for the LOOP method was: 2891.3503ms\n",
      "result from the VECTORIZATION method is 2501072.58168132\n",
      "time taken for the VECTORIZATION method was: 6.6285ms\n"
     ]
    }
   ],
   "source": [
    "#VECTOR VECTOR DOT PRODUCT\n",
    "\n",
    "# two ways to do it, using a loop or using VECTORIZATION from np.dot. which is faster?\n",
    "\n",
    "import numpy as np\n",
    "import time\n",
    "\n",
    "def loop_dot(a,b):\n",
    "    x=0\n",
    "    for i in range (a.shape[0]):\n",
    "        x = x+ a[i]*b[i]\n",
    "    return x\n",
    "\n",
    "np.random.seed (1)\n",
    "a = np.random.rand(10000000) #   rand is for decimals between 0-1.\n",
    "b = np.random.rand(10000000)\n",
    "\n",
    "tic = time.time()\n",
    "print(f\"result from the LOOP method is {loop_dot(a,b)}\")\n",
    "toc = time.time()\n",
    "print(f\"time taken for the LOOP method was: {1000*(toc-tic):.4f}ms\")\n",
    "\n",
    "tic = time.time()\n",
    "print(f\"result from the VECTORIZATION method is {np.dot(a,b)}\")\n",
    "toc = time.time()\n",
    "print(f\"time taken for the VECTORIZATION method was: {1000*(toc-tic):.4f}ms\")\n",
    "\n",
    "del(a); del(b)"
   ]
  },
  {
   "cell_type": "code",
   "execution_count": 32,
   "id": "27fc1b58-e48c-4e54-9fa4-e0dcfe31d5cd",
   "metadata": {},
   "outputs": [
    {
     "name": "stdout",
     "output_type": "stream",
     "text": [
      "X is [[1]\n",
      " [2]\n",
      " [3]\n",
      " [4]]\n",
      "w is [2]\n",
      "X[1] is [2]\n",
      "c is 4\n"
     ]
    }
   ],
   "source": [
    "X = np.array([[1], [2], [3], [4]])\n",
    "w = np.array([2])\n",
    "c = np.dot(X[1], w)\n",
    "\n",
    "print(f\"X is {X}\")\n",
    "print(f\"w is {w}\")\n",
    "print(f\"X[1] is {X[1]}\")\n",
    "print(f\"c is {c}\")"
   ]
  },
  {
   "cell_type": "code",
   "execution_count": 34,
   "id": "6a18abeb-2402-4e77-b23c-e48d3f389295",
   "metadata": {},
   "outputs": [
    {
     "name": "stdout",
     "output_type": "stream",
     "text": [
      "shape of X is (4,)\n",
      "shape of w is (1,)\n",
      "shape of X[1] is ()\n",
      "shape of c is (1,)\n"
     ]
    }
   ],
   "source": [
    "X = np.array([1, 2, 3, 4])\n",
    "w = np.array([2])\n",
    "c = np.dot(X[1], w)\n",
    "\n",
    "print(f\"shape of X is {X.shape}\")\n",
    "print(f\"shape of w is {w.shape}\")\n",
    "print(f\"shape of X[1] is {X[1].shape}\")\n",
    "print(f\"shape of c is {c.shape}\")"
   ]
  },
  {
   "cell_type": "code",
   "execution_count": 35,
   "id": "fbfd8244-6c8d-4794-8033-cc0fb9fabfc3",
   "metadata": {},
   "outputs": [
    {
     "name": "stdout",
     "output_type": "stream",
     "text": [
      "a shape = (1, 5), a = [[0. 0. 0. 0. 0.]]\n",
      "b shape = (2, 1), b = [[0.]\n",
      " [0.]]\n",
      "c shape = (1, 1), c = [[0.44236513]]\n"
     ]
    }
   ],
   "source": [
    "# Matrix Creation \n",
    "\n",
    "a = np.zeros((1, 5))\n",
    "print(f\"a shape = {a.shape}, a = {a}\")\n",
    "\n",
    "b = np.zeros((2, 1))\n",
    "print(f\"b shape = {b.shape}, b = {b}\")\n",
    "\n",
    "c = np.random.random_sample((1, 1))\n",
    "print(f\"c shape = {c.shape}, c = {c}\")"
   ]
  },
  {
   "cell_type": "code",
   "execution_count": null,
   "id": "49b5e4b5-d24e-4435-a953-893cee7e8113",
   "metadata": {},
   "outputs": [],
   "source": []
  }
 ],
 "metadata": {
  "kernelspec": {
   "display_name": "Python 3 (ipykernel)",
   "language": "python",
   "name": "python3"
  },
  "language_info": {
   "codemirror_mode": {
    "name": "ipython",
    "version": 3
   },
   "file_extension": ".py",
   "mimetype": "text/x-python",
   "name": "python",
   "nbconvert_exporter": "python",
   "pygments_lexer": "ipython3",
   "version": "3.13.7"
  }
 },
 "nbformat": 4,
 "nbformat_minor": 5
}
